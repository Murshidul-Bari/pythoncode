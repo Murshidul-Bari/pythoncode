{
  "nbformat": 4,
  "nbformat_minor": 0,
  "metadata": {
    "colab": {
      "provenance": [],
      "authorship_tag": "ABX9TyNlsskQSEMl0hxigDW1ZYxx",
      "include_colab_link": true
    },
    "kernelspec": {
      "name": "python3",
      "display_name": "Python 3"
    },
    "language_info": {
      "name": "python"
    }
  },
  "cells": [
    {
      "cell_type": "markdown",
      "metadata": {
        "id": "view-in-github",
        "colab_type": "text"
      },
      "source": [
        "<a href=\"https://colab.research.google.com/github/Murshidul-Bari/pythoncode/blob/main/Assignment_problem_of_2nd_Class.ipynb\" target=\"_parent\"><img src=\"https://colab.research.google.com/assets/colab-badge.svg\" alt=\"Open In Colab\"/></a>"
      ]
    },
    {
      "cell_type": "code",
      "execution_count": null,
      "metadata": {
        "colab": {
          "base_uri": "https://localhost:8080/"
        },
        "id": "9JQsXorNVmbH",
        "outputId": "41d06e15-2ccf-426b-e9cc-1ab0e20f93f8"
      },
      "outputs": [
        {
          "output_type": "stream",
          "name": "stdout",
          "text": [
            "My Name is M Murshidul Fuad\n",
            "I am 24 years old.\n",
            "Black is my favourite color.\n",
            "What is your name?\n",
            "Fuad\n",
            "My name is Fuad\n",
            "What is your age?\n",
            "24\n",
            "I am 24 years old.\n",
            "What is your Favourite Color?\n",
            "Black\n",
            "Black is my favourite color.\n"
          ]
        }
      ],
      "source": [
        "#Solution of 2.1:\"Try it yourself\" problem\n",
        "\n",
        "name= \"M Murshidul Fuad\"\n",
        "Age= 24\n",
        "favColor=\"Black\"\n",
        "#Printing variables\n",
        "print(\"My Name is\",name)\n",
        "print(f\"I am {Age} years old.\")\n",
        "print(f\"{favColor} is my favourite color.\")\n",
        "\n",
        "print(\"What is your name?\")\n",
        "print(\"My name is\", input())\n",
        "print(\"What is your age?\")\n",
        "print(f\"I am {input()} years old.\")\n",
        "print(\"What is your Favourite Color?\")\n",
        "print(input(),\"is my favourite color.\")\n"
      ]
    },
    {
      "cell_type": "code",
      "source": [
        "#Solution of 2.2:\"Try it yourself\" problem\n",
        "\n",
        "name= \"M Murshidul Fuad\"\n",
        "Age= 24\n",
        "favColor=\"Black\"\n",
        "Weight= 63.75\n",
        "Accepted= True\n",
        "#Printing variables\n",
        "print(type(name))\n",
        "print(type(Age))\n",
        "print(type(favColor))\n",
        "print(type(Weight))\n",
        "print(type(Accepted))\n"
      ],
      "metadata": {
        "colab": {
          "base_uri": "https://localhost:8080/"
        },
        "id": "p8atexemEiHC",
        "outputId": "6a35da2b-7cd3-406c-ed74-07543ffb40d4"
      },
      "execution_count": null,
      "outputs": [
        {
          "output_type": "stream",
          "name": "stdout",
          "text": [
            "<class 'str'>\n",
            "<class 'int'>\n",
            "<class 'str'>\n",
            "<class 'float'>\n",
            "<class 'bool'>\n"
          ]
        }
      ]
    },
    {
      "cell_type": "code",
      "source": [
        "#Solution of 2.3:\"Try it yourself\" problem\n",
        "#Given a rectangle with length=7 and width=5\n",
        "\n",
        "length = 7\n",
        "width = 5\n",
        "\n",
        "#To calculate the Area and Perimeter of a rectangle\n",
        "\n",
        "Area = (length * width)\n",
        "print(\"The area of a rectangle:\", Area)\n",
        "\n",
        "Perimeter = 2* (length + width)\n",
        "print(\"The perimeter of a rectangle:\", Perimeter)\n"
      ],
      "metadata": {
        "colab": {
          "base_uri": "https://localhost:8080/"
        },
        "id": "ioN9KSLx6AL9",
        "outputId": "5ea38e9f-77b4-443f-c2a2-05cda74e058c"
      },
      "execution_count": null,
      "outputs": [
        {
          "output_type": "stream",
          "name": "stdout",
          "text": [
            "The area of a rectangle: 35\n",
            "The perimeter of a rectangle: 24\n"
          ]
        }
      ]
    },
    {
      "cell_type": "code",
      "source": [
        "#Solution of 2.4:\"Try it yourself\" problem\n",
        "#List of 5 Bangladeshi foods\n",
        "\n",
        "BD_Foods=[\"Khichuri\",\"Kacchi Biriyani\",\"Panta-Elish\",\"Fuchka\",\"Chotpoti\"]\n",
        "print(BD_Foods)\n",
        "\n",
        "#Accessing the first and last elements\n",
        "\n",
        "print(BD_Foods[0]) #First Elements\n",
        "print(BD_Foods[-1]) #last Elements\n"
      ],
      "metadata": {
        "colab": {
          "base_uri": "https://localhost:8080/"
        },
        "id": "GMVf3tzJ8enS",
        "outputId": "9db2d870-15c7-46a1-feeb-1d17648e7bdd"
      },
      "execution_count": null,
      "outputs": [
        {
          "output_type": "stream",
          "name": "stdout",
          "text": [
            "['Khichuri', 'Kacchi Biriyani', 'Panta-Elish', 'Fuchka', 'Chotpoti']\n",
            "Khichuri\n",
            "Chotpoti\n"
          ]
        }
      ]
    },
    {
      "cell_type": "code",
      "source": [
        "#Solution of 2.5:\"Try it yourself\" problem\n",
        "\n",
        "num=[1,10,24,5,7] #List of 5 numbers\n",
        "\n",
        "print(num)\n",
        "\n",
        "num.insert(2,9) #Adding a new number\n",
        "print(num)\n",
        "\n",
        "num.remove(24) #Remove a number from list\n",
        "print(num)\n",
        "\n",
        "num.sort()  #Sorting all the number\n",
        "print(num)"
      ],
      "metadata": {
        "colab": {
          "base_uri": "https://localhost:8080/"
        },
        "id": "H9gPxnhlA2yF",
        "outputId": "3030d566-84e6-4e4f-bd1c-53145b596323"
      },
      "execution_count": null,
      "outputs": [
        {
          "output_type": "stream",
          "name": "stdout",
          "text": [
            "[1, 10, 24, 5, 7]\n",
            "[1, 10, 9, 24, 5, 7]\n",
            "[1, 10, 9, 5, 7]\n",
            "[1, 5, 7, 9, 10]\n"
          ]
        }
      ]
    },
    {
      "cell_type": "code",
      "source": [
        "#Solution of 2.6:\"Try it yourself\" problem\n",
        "#Creating a Dictionary\n",
        "\n",
        "Portfolio = {\n",
        "    \"name\" : \"M MURSHIDUL BARI\",\n",
        "    \"age\" : 24,\n",
        "    \"email\" : \"bari.murshidul10@gmail.com\",\n",
        "    \"university\" : \"University of Rajshahi\",\n",
        "    \"courses\" : [\"Electronic Circuit\", \"Python\", \"DSP\"],\n",
        "}\n",
        "\n",
        "print(Portfolio[\"name\"]) #Accessing Name from the Dictionary\n",
        "print(Portfolio[\"courses\"][2]) #Accessing courses from the Dictionary\n",
        "\n",
        "print(type(Portfolio)) #Checking the type"
      ],
      "metadata": {
        "colab": {
          "base_uri": "https://localhost:8080/"
        },
        "id": "WjCJ1pF_jszZ",
        "outputId": "0ad87c7a-2e4b-466d-eefd-ae9b4a6a583f"
      },
      "execution_count": 3,
      "outputs": [
        {
          "output_type": "stream",
          "name": "stdout",
          "text": [
            "M MURSHIDUL BARI\n",
            "DSP\n",
            "<class 'dict'>\n"
          ]
        }
      ]
    },
    {
      "cell_type": "code",
      "source": [
        "#Solution of 2.7:\"Try it yourself\" problem\n",
        "# Creating a tuple\n",
        "#Latitude & Longitude of a famouse place of Bangladesh\n",
        "\n",
        "Coordinates=(\"24.367106°N\", \"88.592382°E\") #Coordinates of Varendra Research Museum in Rajshahi\n",
        "Latitude= (Coordinates[0])\n",
        "Longitude= (Coordinates[1])\n",
        "print(Latitude)\n",
        "print(Longitude)\n",
        "\n",
        "print(\"The latitude and Longitude of Varendra Museum =\",Coordinates)\n"
      ],
      "metadata": {
        "colab": {
          "base_uri": "https://localhost:8080/"
        },
        "id": "egTZyRIqFBJ_",
        "outputId": "259da514-135a-482f-f0d3-6bb6818bf9d4"
      },
      "execution_count": 13,
      "outputs": [
        {
          "output_type": "stream",
          "name": "stdout",
          "text": [
            "24.367106°N\n",
            "88.592382°E\n",
            "The latitude and Longitude of Varendra Museum = ('24.367106°N', '88.592382°E')\n"
          ]
        }
      ]
    },
    {
      "cell_type": "code",
      "source": [
        "#Solution of 2.8:\"Try it yourself\" problem\n",
        "#creating a set\n",
        "\n",
        "#Set of colors in different logos\n",
        "\n",
        "Google_Logo_Colors = {\"Blue\", \"Red\", \"Yellow\", \"Green\"}\n",
        "YT_Logo_Colors = {\"Red\", \"White\", \"Black\"}\n",
        "\n",
        "allTheColors = Google_Logo_Colors | YT_Logo_Colors #Union Set Operation\n",
        "print(allTheColors)\n",
        "\n",
        "CommonColors = Google_Logo_Colors & YT_Logo_Colors #Intersection Set Operation\n",
        "print(CommonColors)"
      ],
      "metadata": {
        "colab": {
          "base_uri": "https://localhost:8080/"
        },
        "id": "PWkL_lF5IyVV",
        "outputId": "caf3d9cb-b8e9-403a-fbe2-3619fc9f1948"
      },
      "execution_count": 18,
      "outputs": [
        {
          "output_type": "stream",
          "name": "stdout",
          "text": [
            "{'Blue', 'White', 'Black', 'Red', 'Yellow', 'Green'}\n",
            "{'Red'}\n"
          ]
        }
      ]
    },
    {
      "cell_type": "code",
      "source": [
        "#Solution of 2.9:\"Try it yourself\" problem\n",
        "#A program for checking if the number is positive, negative, or zero\n",
        "\n",
        "print(\"Enter a Number=\")\n",
        "a=(float(input())) #float for considering all type of number.\n",
        "\n",
        "if a<0:\n",
        "  print(\"The number is negative.\") #Condition for being negative.\n",
        "elif a>0:\n",
        "  print(\"The number is positive.\") #Condition for being positive.\n",
        "else:\n",
        "  print(\"The number is zero.\")"
      ],
      "metadata": {
        "colab": {
          "base_uri": "https://localhost:8080/"
        },
        "id": "YKHwA0J6crCE",
        "outputId": "fec6d055-adc3-484f-f93f-1b90bc7a3db1"
      },
      "execution_count": 30,
      "outputs": [
        {
          "output_type": "stream",
          "name": "stdout",
          "text": [
            "Enter a Number=\n",
            "-54.2\n",
            "The number is negative.\n"
          ]
        }
      ]
    },
    {
      "cell_type": "code",
      "source": [
        "#Solution of 2.10:\"Try it yourself\" problem\n",
        "\n",
        "print(\"Enter Your Age =\")\n",
        "age=(int(input()))\n",
        "\n",
        "\n",
        "if age<25:\n",
        "    print(\"Are you a student? Yes/No.\") #Checking If the person is a student or not.\n",
        "    student=(input())\n",
        "\n",
        "    if (student==\"yes\"):\n",
        "            print(\"You are getting a discount for being a student.\") #Discounts For Student\n",
        "    else:\n",
        "            print(\"Sorry, You are not getting any discount.\")\n",
        "else:\n",
        "        if age>60:\n",
        "            print(\"Hurray! You are getting a discount.\") #Discounts For Senior\n",
        "        else:\n",
        "            print(\"Sorry, You are not eligible for the discount.\")"
      ],
      "metadata": {
        "colab": {
          "base_uri": "https://localhost:8080/"
        },
        "id": "QDM-tDwtEkjo",
        "outputId": "149f4861-48a3-498a-e020-f17cb34ebc86"
      },
      "execution_count": 79,
      "outputs": [
        {
          "output_type": "stream",
          "name": "stdout",
          "text": [
            "Enter Your Age =\n",
            "61\n",
            "Hurray! You are getting a discount.\n"
          ]
        }
      ]
    },
    {
      "cell_type": "code",
      "source": [
        "#Solution of 2.11:\"Try it yourself\" problem\n",
        "\n",
        "#Using for loop only\n",
        "print(\"The first 10 even numbers are:\") #Considering 0 as Even Number\n",
        "for i in [0,1,2,3,4,5,6,7,8,9]:\n",
        "  print(i*2,end=\" \")\n",
        "\n",
        "print()\n",
        "\n",
        "#Using for loop and range() function\n",
        "print(\"The first 10 even numbers are:\")\n",
        "for i in range(0,20,2):\n",
        "  print(i,end=\" \")\n",
        "\n",
        "print()\n",
        "\n",
        "#Using While loop\n",
        "print(\"The first 10 even numbers are:\")\n",
        "i=0\n",
        "while i<20:\n",
        "    print(i)\n",
        "    i +=2\n"
      ],
      "metadata": {
        "colab": {
          "base_uri": "https://localhost:8080/"
        },
        "id": "ivz4HWuWfqOV",
        "outputId": "afef496a-4546-4548-8ceb-6bae9e34486f"
      },
      "execution_count": 116,
      "outputs": [
        {
          "output_type": "stream",
          "name": "stdout",
          "text": [
            "The first 10 even numbers are:\n",
            "0 2 4 6 8 10 12 14 16 18 \n",
            "The first 10 even numbers are:\n",
            "0 2 4 6 8 10 12 14 16 18 \n",
            "The first 10 even numbers are:\n",
            "0\n",
            "2\n",
            "4\n",
            "6\n",
            "8\n",
            "10\n",
            "12\n",
            "14\n",
            "16\n",
            "18\n"
          ]
        }
      ]
    },
    {
      "cell_type": "code",
      "source": [
        "#Solution of 2.12:\"Try it yourself\" problem\n",
        "\n",
        "print(\"Enter the value of row=\") #A simple number pyramid pattern using nested loops.\n",
        "rows=int(input())\n",
        "\n",
        "i = 1\n",
        "while i <= rows:\n",
        "\n",
        "    j = 0\n",
        "    while j < rows - i:        #For creating spaces\n",
        "        print(\" \", end=\"\")\n",
        "        j += 1\n",
        "\n",
        "\n",
        "    k = 0\n",
        "    while k < 2 * i - 1:\n",
        "        print(i, end=\"\")\n",
        "        k += 1\n",
        "\n",
        "    print()\n",
        "    i += 1"
      ],
      "metadata": {
        "colab": {
          "base_uri": "https://localhost:8080/"
        },
        "id": "wvvCrCKklzyE",
        "outputId": "7fd15e8c-b501-4562-d60c-69452c2c57c9"
      },
      "execution_count": 190,
      "outputs": [
        {
          "output_type": "stream",
          "name": "stdout",
          "text": [
            "Enter the value of row=\n",
            "5\n",
            "    1\n",
            "   222\n",
            "  33333\n",
            " 4444444\n",
            "555555555\n"
          ]
        }
      ]
    },
    {
      "cell_type": "code",
      "source": [
        "#Solution of 2.13:\"Try it yourself\" problem\n",
        "\n",
        "#Temperature Conversion\n",
        "def celTOfer():    #User defined Function\n",
        "     print(\"Temperature value in celsius=\")\n",
        "     C=float(input())\n",
        "     F = (C * 9/5) + 32\n",
        "     print(\"Temperature in Fahrenheit:\",F)\n",
        "\n",
        "\n",
        "celTOfer() #Convertion from celsius to Fahrenheit\n",
        "\n"
      ],
      "metadata": {
        "colab": {
          "base_uri": "https://localhost:8080/"
        },
        "id": "OLiIhBzJ_beB",
        "outputId": "dd4a0434-6d1d-4689-cc7b-51447a61e735"
      },
      "execution_count": 195,
      "outputs": [
        {
          "output_type": "stream",
          "name": "stdout",
          "text": [
            "Temperature value in celsius=\n",
            "40\n",
            "Temperature in Fahrenheit: 104.0\n"
          ]
        }
      ]
    },
    {
      "cell_type": "code",
      "source": [
        "#Solution of 2.14:\"Try it yourself\" problem\n",
        "#User Defined Function for Area Calculation of a Rectangle\n",
        "\n",
        "print(\"Enter the width of the rectangle:\", end=\" \") #User Inputs\n",
        "a=float(input())\n",
        "print(\"Enter the length of the rectangle:\",end=\" \")\n",
        "b=float(input())\n",
        "\n",
        "def calcAREA():  #User defined function\n",
        "   area=(a*b)    #Formula for calculating area\n",
        "   print(f\"The area of the rectangle is {area} sq.unit.\")\n",
        "\n",
        "\n",
        "calcAREA() #Call User Defined function\n",
        "\n"
      ],
      "metadata": {
        "colab": {
          "base_uri": "https://localhost:8080/"
        },
        "id": "LZSViJl3CYUZ",
        "outputId": "7885cfd7-9d09-4062-975c-cf2a180bb528"
      },
      "execution_count": 200,
      "outputs": [
        {
          "output_type": "stream",
          "name": "stdout",
          "text": [
            "Enter the width of the rectangle: 54\n",
            "Enter the length of the rectangle: 32\n",
            "The area of the rectangle is 1728.0 sq.unit.\n"
          ]
        }
      ]
    }
  ]
}